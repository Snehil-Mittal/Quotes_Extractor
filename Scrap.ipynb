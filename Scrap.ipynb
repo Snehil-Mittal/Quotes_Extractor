{
  "nbformat": 4,
  "nbformat_minor": 0,
  "metadata": {
    "colab": {
      "name": "Scrap.ipynb",
      "provenance": [],
      "collapsed_sections": [],
      "authorship_tag": "ABX9TyNnrpDeqP92CfmjCJtUjE4n",
      "include_colab_link": true
    },
    "kernelspec": {
      "name": "python3",
      "display_name": "Python 3"
    }
  },
  "cells": [
    {
      "cell_type": "markdown",
      "metadata": {
        "id": "view-in-github",
        "colab_type": "text"
      },
      "source": [
        "<a href=\"https://colab.research.google.com/github/Snehil-Mittal/Quotes_Extractor/blob/master/Scrap.ipynb\" target=\"_parent\"><img src=\"https://colab.research.google.com/assets/colab-badge.svg\" alt=\"Open In Colab\"/></a>"
      ]
    },
    {
      "cell_type": "code",
      "metadata": {
        "id": "Uk7IYUrMlMtI",
        "colab_type": "code",
        "colab": {}
      },
      "source": [
        "import requests\n",
        "from bs4 import BeautifulSoup"
      ],
      "execution_count": null,
      "outputs": []
    },
    {
      "cell_type": "code",
      "metadata": {
        "id": "McWwM3xuoHLn",
        "colab_type": "code",
        "colab": {}
      },
      "source": [
        "def get_quotes(url):\n",
        "  res = requests.get(url)\n",
        "  soup = BeautifulSoup(res.text)\n",
        "  quotes_div = soup.find_all(\"div\",attrs={\"class\":\"quote\"})\n",
        "  quotes=[]\n",
        "  for quote in quotes_div:\n",
        "    quotes_text = quote.find_next(\"div\",attrs={\"class\":\"quoteText\"})\n",
        "    striped = quotes_text.text.strip()\n",
        "    stripedli = striped.split(\"\\n\")\n",
        "    text = stripedli[0] [1:-1]\n",
        "    author = stripedli[3].strip() [:-2]\n",
        "    left_divs = quote.find_next(\"div\",attrs={\"class\":\"left\"})\n",
        "    tags = [tag.text for tag in left_divs.find_all(\"a\")]\n",
        "              \n",
        "    quote_item = {\n",
        "          \"author\":author,\n",
        "          \"quote\":text,\n",
        "          \"tags\":tags\n",
        "      }\n",
        "    quotes.append(quote_item)\n",
        "  return quotes"
      ],
      "execution_count": null,
      "outputs": []
    },
    {
      "cell_type": "code",
      "metadata": {
        "id": "skjDDSvUlgL6",
        "colab_type": "code",
        "colab": {}
      },
      "source": [
        "url = \"https://www.goodreads.com/quotes/tag/{}?page={}\"\n",
        "\n",
        "type = input(\"Enter the type of quotes you want, say \\\"Love\\\" for example: \")\n",
        "pages = int(input(\"Enter the number of pages whose quotes you want: \"))\n",
        "\n",
        "total = []\n",
        "for page in range(1,pages+1):\n",
        "  data = get_quotes(url.format(type,page))\n",
        "  total.extend(data)\n",
        "  print (\"processed\", page)\n",
        "  "
      ],
      "execution_count": null,
      "outputs": []
    },
    {
      "cell_type": "code",
      "metadata": {
        "id": "tV_J5omY2tIe",
        "colab_type": "code",
        "colab": {}
      },
      "source": [
        "import pandas as pd\n",
        "df = pd.DataFrame(total)\n",
        "df.to_csv(\"scrap.csv\")"
      ],
      "execution_count": null,
      "outputs": []
    }
  ]
}